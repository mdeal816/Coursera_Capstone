{
 "cells": [
  {
   "cell_type": "markdown",
   "metadata": {},
   "source": [
    "# Final Capstone Project"
   ]
  },
  {
   "cell_type": "markdown",
   "metadata": {},
   "source": [
    "### Introduction and Business Problem"
   ]
  },
  {
   "cell_type": "markdown",
   "metadata": {},
   "source": [
    "#### A theorectical residential home builder is looking to set up a new location in the Houston Texas Area. This analysis will help decide where in this area might be a good location to consider based on neighborhoods."
   ]
  },
  {
   "cell_type": "markdown",
   "metadata": {},
   "source": [
    "We will be analyzing neighborhoods in the Houston area to try and determine if some similarities and characteristics between them exists.  Since the builder has not provided details about what market he is looking to serve (custom vs. high volume, luxury vs. not, etc.), an exact location cannot be determined. However, we can make observations about the different types of neighborhoods and present these back to the builder so they can make a final decision."
   ]
  },
  {
   "cell_type": "markdown",
   "metadata": {},
   "source": [
    "### Data"
   ]
  },
  {
   "cell_type": "markdown",
   "metadata": {},
   "source": [
    "Data is from several sources.  The neighborhood information, with some real estate information, is from Houstonia Magazine.  The article is tiled \"Neighborhoods by the Numbers 2017\" and was published in March 2017. It can be found at \"https://www.houstoniamag.com/home-and-real-estate/2017/03/neighborhoods-by-the-numbers-real-estate-data-2017\". The information will have median home pricing and home value growth by percent for specified time periods. The geocoordinates of the neighborhoods is derived by using their zipcodes.  Using the site zipinfo.com, I will download a csv file with all zipcodes and corresponding latitude and longitude.  Lastly, Foursquare will be used to pull in the venues data for the neighborhoods and this can be found at Foursquare.com."
   ]
  },
  {
   "cell_type": "markdown",
   "metadata": {},
   "source": [
    "The real estate data will be standardized and combined with the venue data to group the neighborhoods using **k-means**.  Once completed, analysis will be performed by mapping of the clusters of neighborhoods in the Houston area to visually see how they relate to each other. Also, a review of the top venues in each neighborhood cluster should provide observations about characteristics and similarities. Certain clusters may prove more suited for a new location versus others and this information will be provided to the homebuilder.  "
   ]
  },
  {
   "cell_type": "code",
   "execution_count": null,
   "metadata": {},
   "outputs": [],
   "source": []
  }
 ],
 "metadata": {
  "kernelspec": {
   "display_name": "Python 3",
   "language": "python",
   "name": "python3"
  },
  "language_info": {
   "codemirror_mode": {
    "name": "ipython",
    "version": 3
   },
   "file_extension": ".py",
   "mimetype": "text/x-python",
   "name": "python",
   "nbconvert_exporter": "python",
   "pygments_lexer": "ipython3",
   "version": "3.7.6"
  }
 },
 "nbformat": 4,
 "nbformat_minor": 4
}
