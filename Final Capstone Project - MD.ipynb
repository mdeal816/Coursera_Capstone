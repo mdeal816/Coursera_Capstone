{
 "cells": [
  {
   "cell_type": "markdown",
   "metadata": {},
   "source": [
    "# Final Capstone Project"
   ]
  },
  {
   "cell_type": "markdown",
   "metadata": {},
   "source": [
    "### A theorectical residential home builder is looking to set up a new location in the Houston Texas Area. This analysis will help decide where in this area might be a good location to consider based on neighborhoods."
   ]
  },
  {
   "cell_type": "markdown",
   "metadata": {},
   "source": [
    "The information will have median home pricing and home value growth by percent for specified time periods. This will be combined with venue data from Foursquare to make the analysis.  We will be analyzing neighborhoods in the Houston area.  Using venue information from Foursquare can provide telling information about the neighborhoods.  Since the builder has not provided details about what market he is looking to serve (custom vs. high volume, luxury vs. not, etc.), an exact location cannot be determined.  We will use k-means to group the neighborhoods and provide some information about some of the cluster of neighborhoods back to the builder with some observations. They will be responsible for picking a final location based on the needs of the business."
   ]
  },
  {
   "cell_type": "markdown",
   "metadata": {},
   "source": [
    "Data is from several sources.  The neighborhood information, with some real estate information, is from Houstonia Magazine.  The article is tiled \"Neighborhoods by the Numbers 2017\" and was published in March 2017.  The geocoordinates of the neighborhoods is derived by using their zipcodes.  Using the site zipinfo.com, I will download a csv file with all zipcodes and corresponding latitude and longitude.  Lastly, I will use Foursquare to pull in the venues data for the neighborhoods."
   ]
  },
  {
   "cell_type": "markdown",
   "metadata": {},
   "source": [
    "The real estate data will be standardized and combined with the venue data to group the neighborhoods using k-means.  Once this is completed, analysis will be performed by using visualization with mapping of the clusters of neighborhoods in the Houston area and reviewing the top venues in each neighborhood cluster, observations can be made about certain clusters and this provided to the homebuilder.  "
   ]
  },
  {
   "cell_type": "markdown",
   "metadata": {},
   "source": []
  }
 ],
 "metadata": {
  "kernelspec": {
   "display_name": "Python 3",
   "language": "python",
   "name": "python3"
  },
  "language_info": {
   "codemirror_mode": {
    "name": "ipython",
    "version": 3
   },
   "file_extension": ".py",
   "mimetype": "text/x-python",
   "name": "python",
   "nbconvert_exporter": "python",
   "pygments_lexer": "ipython3",
   "version": "3.7.6"
  }
 },
 "nbformat": 4,
 "nbformat_minor": 4
}
